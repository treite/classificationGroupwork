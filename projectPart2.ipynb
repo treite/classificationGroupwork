{
 "cells": [
  {
   "cell_type": "markdown",
   "id": "f7be3fef",
   "metadata": {},
   "source": [
    "# Group project in AI applied to engineering - Part 2\n",
    "This notebook contains the second part of the course project in AI applied to engineering.\n",
    "\n",
    "### Contents\n",
    "1. Imports and data loading\n",
    "2. Review of dataset and declaration of performance metric\n",
    "3. Training and evaluating\n",
    "    1. k Neares Neighbor\n",
    "    2. Logistic/Linear regression\n",
    "    3. Polynomial regression\n",
    "    4. Decision/Regression Trees\n",
    "    5. Gaussian Naive Bayes\n",
    "    6. Support Vector Machines\n",
    "    7. Bagging\n",
    "    8. Adaboost\n",
    "    9. Gradient Boost\n",
    "    10. Random Forest\n",
    "    11. Multi Layer Perceptron (MLP)\n",
    "4. Results summary"
   ]
  },
  {
   "cell_type": "markdown",
   "id": "0f95341d",
   "metadata": {},
   "source": [
    "## 1. Imports and data loading"
   ]
  },
  {
   "cell_type": "code",
   "execution_count": 3,
   "id": "68bfb1c0",
   "metadata": {},
   "outputs": [],
   "source": [
    "import pickle"
   ]
  },
  {
   "cell_type": "code",
   "execution_count": 10,
   "id": "28a442ba",
   "metadata": {},
   "outputs": [
    {
     "data": {
      "text/plain": [
       "((1719, 14), (430, 14), (1719,), (430,))"
      ]
     },
     "execution_count": 10,
     "metadata": {},
     "output_type": "execute_result"
    }
   ],
   "source": [
    "X_train = pickle.load(open('X_train_scaled_filtered.pkl', 'rb'))\n",
    "X_test = pickle.load(open('X_test_scaled_filtered.pkl', 'rb'))\n",
    "y_train = pickle.load(open('y_train.pkl', 'rb'))\n",
    "y_test = pickle.load(open('y_test.pkl', 'rb'))\n",
    "X_train.shape, X_test.shape, y_train.shape, y_test.shape"
   ]
  },
  {
   "cell_type": "markdown",
   "id": "cfae9136",
   "metadata": {},
   "source": [
    "## 2. Review of dataset and declaration of performance metric\n",
    "\n",
    "The dataset we are working with is a dataset containing medical data from just over 2100 patients, of whom some have been diagnosed with Alzheimer's disease.\n",
    "The data was retrieved from: https://www.kaggle.com/datasets/rabieelkharoua/alzheimers-disease-dataset?resource=download\n",
    "The dataset contains data from __2149__ patients, and has a total of __35__ data variables. In the last part of the project, the featured in the data set were filtered down from __35__ to __14__, because of low correlation or irrelevance."
   ]
  }
 ],
 "metadata": {
  "kernelspec": {
   "display_name": "condaenv",
   "language": "python",
   "name": "python3"
  },
  "language_info": {
   "codemirror_mode": {
    "name": "ipython",
    "version": 3
   },
   "file_extension": ".py",
   "mimetype": "text/x-python",
   "name": "python",
   "nbconvert_exporter": "python",
   "pygments_lexer": "ipython3",
   "version": "3.11.11"
  }
 },
 "nbformat": 4,
 "nbformat_minor": 5
}
