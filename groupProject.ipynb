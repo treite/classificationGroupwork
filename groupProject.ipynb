{
 "cells": [
  {
   "cell_type": "markdown",
   "id": "8ad43534",
   "metadata": {
    "id": "8ad43534"
   },
   "source": [
    "\n",
    "# Group Project in AI Applied to Engineering\n",
    "\n",
    "##### Nima Salihzada, Tarjei Åkre Reite and Sanna Hartman Sellaeg"
   ]
  },
  {
   "cell_type": "markdown",
   "id": "5CvGZ-IcZRI-",
   "metadata": {
    "id": "5CvGZ-IcZRI-"
   },
   "source": [
    "This notebook contains the code used to carry out the group work at the AI Applied to Engineering course."
   ]
  },
  {
   "cell_type": "code",
   "execution_count": 4,
   "id": "3ba5fa95",
   "metadata": {
    "executionInfo": {
     "elapsed": 1380,
     "status": "ok",
     "timestamp": 1740661755376,
     "user": {
      "displayName": "Tarjei Reite",
      "userId": "04100800938005432233"
     },
     "user_tz": -60
    },
    "id": "3ba5fa95"
   },
   "outputs": [],
   "source": [
    "import pandas as pd\n",
    "import matplotlib.pyplot as plt\n",
    "import seaborn as sns"
   ]
  },
  {
   "cell_type": "code",
   "execution_count": null,
   "id": "3aeb0add",
   "metadata": {},
   "outputs": [],
   "source": []
  },
  {
   "cell_type": "markdown",
   "id": "LrlHRzMSie2Z",
   "metadata": {
    "id": "LrlHRzMSie2Z"
   },
   "source": [
    "# Alzheimer's disease data\n",
    "\n",
    "The dataset we are working with is a dataset containing medical data from just over 2100 patients, of whom some have been diagnosed with Alzheimer's disease.\n",
    "The data was retrieved from: https://www.kaggle.com/datasets/rabieelkharoua/alzheimers-disease-dataset?resource=download\n"
   ]
  },
  {
   "cell_type": "code",
   "execution_count": 3,
   "id": "saXcuAq_Zjrs",
   "metadata": {
    "colab": {
     "base_uri": "https://localhost:8080/"
    },
    "executionInfo": {
     "elapsed": 34,
     "status": "ok",
     "timestamp": 1740661947357,
     "user": {
      "displayName": "Tarjei Reite",
      "userId": "04100800938005432233"
     },
     "user_tz": -60
    },
    "id": "saXcuAq_Zjrs",
    "outputId": "bfd2b8b7-041a-4378-8396-3fcc6413716c"
   },
   "outputs": [
    {
     "name": "stdout",
     "output_type": "stream",
     "text": [
      "(2149, 35)\n"
     ]
    }
   ],
   "source": [
    "df = pd.read_csv(\"alzheimers_disease_data.csv\")\n",
    "print(df.shape)"
   ]
  },
  {
   "cell_type": "markdown",
   "id": "_XWMF-w3jUAL",
   "metadata": {
    "id": "_XWMF-w3jUAL"
   },
   "source": []
  },
  {
   "cell_type": "code",
   "execution_count": 17,
   "id": "50ccf618",
   "metadata": {},
   "outputs": [
    {
     "name": "stdout",
     "output_type": "stream",
     "text": [
      "<bound method NDFrame.head of       PatientID  Age  Gender  Ethnicity  EducationLevel        BMI  Smoking  \\\n",
      "0          4751   73       0          0               2  22.927749        0   \n",
      "1          4752   89       0          0               0  26.827681        0   \n",
      "2          4753   73       0          3               1  17.795882        0   \n",
      "3          4754   74       1          0               1  33.800817        1   \n",
      "4          4755   89       0          0               0  20.716974        0   \n",
      "...         ...  ...     ...        ...             ...        ...      ...   \n",
      "2144       6895   61       0          0               1  39.121757        0   \n",
      "2145       6896   75       0          0               2  17.857903        0   \n",
      "2146       6897   77       0          0               1  15.476479        0   \n",
      "2147       6898   78       1          3               1  15.299911        0   \n",
      "2148       6899   72       0          0               2  33.289738        0   \n",
      "\n",
      "      AlcoholConsumption  PhysicalActivity  DietQuality  ...  \\\n",
      "0              13.297218          6.327112     1.347214  ...   \n",
      "1               4.542524          7.619885     0.518767  ...   \n",
      "2              19.555085          7.844988     1.826335  ...   \n",
      "3              12.209266          8.428001     7.435604  ...   \n",
      "4              18.454356          6.310461     0.795498  ...   \n",
      "...                  ...               ...          ...  ...   \n",
      "2144            1.561126          4.049964     6.555306  ...   \n",
      "2145           18.767261          1.360667     2.904662  ...   \n",
      "2146            4.594670          9.886002     8.120025  ...   \n",
      "2147            8.674505          6.354282     1.263427  ...   \n",
      "2148            7.890703          6.570993     7.941404  ...   \n",
      "\n",
      "      MemoryComplaints  BehavioralProblems       ADL  Confusion  \\\n",
      "0                    0                   0  1.725883          0   \n",
      "1                    0                   0  2.592424          0   \n",
      "2                    0                   0  7.119548          0   \n",
      "3                    0                   1  6.481226          0   \n",
      "4                    0                   0  0.014691          0   \n",
      "...                ...                 ...       ...        ...   \n",
      "2144                 0                   0  4.492838          1   \n",
      "2145                 0                   1  9.204952          0   \n",
      "2146                 0                   0  5.036334          0   \n",
      "2147                 0                   0  3.785399          0   \n",
      "2148                 0                   1  8.327563          0   \n",
      "\n",
      "      Disorientation  PersonalityChanges  DifficultyCompletingTasks  \\\n",
      "0                  0                   0                          1   \n",
      "1                  0                   0                          0   \n",
      "2                  1                   0                          1   \n",
      "3                  0                   0                          0   \n",
      "4                  0                   1                          1   \n",
      "...              ...                 ...                        ...   \n",
      "2144               0                   0                          0   \n",
      "2145               0                   0                          0   \n",
      "2146               0                   0                          0   \n",
      "2147               0                   0                          0   \n",
      "2148               1                   0                          0   \n",
      "\n",
      "      Forgetfulness  Diagnosis  DoctorInCharge  \n",
      "0                 0          0       XXXConfid  \n",
      "1                 1          0       XXXConfid  \n",
      "2                 0          0       XXXConfid  \n",
      "3                 0          0       XXXConfid  \n",
      "4                 0          0       XXXConfid  \n",
      "...             ...        ...             ...  \n",
      "2144              0          1       XXXConfid  \n",
      "2145              0          1       XXXConfid  \n",
      "2146              0          1       XXXConfid  \n",
      "2147              1          1       XXXConfid  \n",
      "2148              1          0       XXXConfid  \n",
      "\n",
      "[2149 rows x 35 columns]>\n",
      "float64\n",
      "PatientID                    0\n",
      "Age                          0\n",
      "Gender                       0\n",
      "Ethnicity                    0\n",
      "EducationLevel               0\n",
      "BMI                          0\n",
      "Smoking                      0\n",
      "AlcoholConsumption           0\n",
      "PhysicalActivity             0\n",
      "DietQuality                  0\n",
      "SleepQuality                 0\n",
      "FamilyHistoryAlzheimers      0\n",
      "CardiovascularDisease        0\n",
      "Diabetes                     0\n",
      "Depression                   0\n",
      "HeadInjury                   0\n",
      "Hypertension                 0\n",
      "SystolicBP                   0\n",
      "DiastolicBP                  0\n",
      "CholesterolTotal             0\n",
      "CholesterolLDL               0\n",
      "CholesterolHDL               0\n",
      "CholesterolTriglycerides     0\n",
      "MMSE                         0\n",
      "FunctionalAssessment         0\n",
      "MemoryComplaints             0\n",
      "BehavioralProblems           0\n",
      "ADL                          0\n",
      "Confusion                    0\n",
      "Disorientation               0\n",
      "PersonalityChanges           0\n",
      "DifficultyCompletingTasks    0\n",
      "Forgetfulness                0\n",
      "Diagnosis                    0\n",
      "DoctorInCharge               0\n",
      "dtype: int64\n"
     ]
    }
   ],
   "source": [
    "print(df.head)\n",
    "print(df['BMI'].dtypes)\n",
    "print(df.isnull().sum())\n"
   ]
  }
 ],
 "metadata": {
  "colab": {
   "provenance": []
  },
  "kernelspec": {
   "display_name": ".venv",
   "language": "python",
   "name": "python3"
  },
  "language_info": {
   "codemirror_mode": {
    "name": "ipython",
    "version": 3
   },
   "file_extension": ".py",
   "mimetype": "text/x-python",
   "name": "python",
   "nbconvert_exporter": "python",
   "pygments_lexer": "ipython3",
   "version": "3.11.0"
  }
 },
 "nbformat": 4,
 "nbformat_minor": 5
}
