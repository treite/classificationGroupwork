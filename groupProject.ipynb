{
 "cells": [
  {
   "cell_type": "markdown",
   "id": "8ad43534",
   "metadata": {
    "id": "8ad43534"
   },
   "source": [
    "\n",
    "# Group Project in AI Applied to Engineering\n",
    "\n",
    "##### Nima Salihzada, Tarjei Åkre Reite and Sanna Hartman Sellaeg"
   ]
  },
  {
   "cell_type": "markdown",
   "id": "5CvGZ-IcZRI-",
   "metadata": {
    "id": "5CvGZ-IcZRI-"
   },
   "source": [
    "This notebook contains the code used to carry out the group work at the AI Applied to Engineering course."
   ]
  },
  {
   "cell_type": "code",
   "execution_count": null,
   "id": "3ba5fa95",
   "metadata": {
    "executionInfo": {
     "elapsed": 1380,
     "status": "ok",
     "timestamp": 1740661755376,
     "user": {
      "displayName": "Tarjei Reite",
      "userId": "04100800938005432233"
     },
     "user_tz": -60
    },
    "id": "3ba5fa95"
   },
   "outputs": [],
   "source": [
    "import pandas as pd\n",
    "import matplotlib.pyplot as plt\n",
    "import seaborn as sns\n",
    "import pandas as pd"
   ]
  },
  {
   "cell_type": "markdown",
   "id": "LrlHRzMSie2Z",
   "metadata": {
    "id": "LrlHRzMSie2Z"
   },
   "source": [
    "# Alzheimer's disease data\n",
    "\n",
    "The dataset we are working with is a dataset containing medical data from just over 2100 patients, of whom some have been diagnosed with Alzheimer's disease.\n",
    "The data was retrieved from: https://www.kaggle.com/datasets/rabieelkharoua/alzheimers-disease-dataset?resource=download\n"
   ]
  },
  {
   "cell_type": "code",
   "execution_count": 11,
   "id": "saXcuAq_Zjrs",
   "metadata": {
    "colab": {
     "base_uri": "https://localhost:8080/"
    },
    "executionInfo": {
     "elapsed": 34,
     "status": "ok",
     "timestamp": 1740661947357,
     "user": {
      "displayName": "Tarjei Reite",
      "userId": "04100800938005432233"
     },
     "user_tz": -60
    },
    "id": "saXcuAq_Zjrs",
    "outputId": "bfd2b8b7-041a-4378-8396-3fcc6413716c"
   },
   "outputs": [
    {
     "name": "stdout",
     "output_type": "stream",
     "text": [
      "(2149, 35)\n"
     ]
    }
   ],
   "source": [
    "df = pd.read_csv(\"/content/drive/My Drive/Colab Notebooks/engineeringGroupWork/alzheimers_disease_data.csv\")\n",
    "print(df.shape)"
   ]
  },
  {
   "cell_type": "markdown",
   "id": "_XWMF-w3jUAL",
   "metadata": {
    "id": "_XWMF-w3jUAL"
   },
   "source": []
  }
 ],
 "metadata": {
  "colab": {
   "provenance": []
  },
  "kernelspec": {
   "display_name": "venv",
   "language": "python",
   "name": "python3"
  },
  "language_info": {
   "codemirror_mode": {
    "name": "ipython",
    "version": 3
   },
   "file_extension": ".py",
   "mimetype": "text/x-python",
   "name": "python",
   "nbconvert_exporter": "python",
   "pygments_lexer": "ipython3",
   "version": "3.13.1"
  }
 },
 "nbformat": 4,
 "nbformat_minor": 5
}
